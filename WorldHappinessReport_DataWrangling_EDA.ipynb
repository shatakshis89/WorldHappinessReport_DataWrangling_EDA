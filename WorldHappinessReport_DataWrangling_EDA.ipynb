{
 "cells": [
  {
   "cell_type": "code",
   "execution_count": 1,
   "metadata": {},
   "outputs": [],
   "source": [
    "import pandas as pd\n",
    "import numpy as np\n",
    "import matplotlib.pyplot as plt\n",
    "import seaborn as sns\n",
    "import glob"
   ]
  },
  {
   "cell_type": "code",
   "execution_count": 2,
   "metadata": {},
   "outputs": [
    {
     "data": {
      "text/plain": [
       "['D:\\\\python_github\\\\WorldHappinessReport\\\\2015.csv',\n",
       " 'D:\\\\python_github\\\\WorldHappinessReport\\\\2016.csv',\n",
       " 'D:\\\\python_github\\\\WorldHappinessReport\\\\2017.csv',\n",
       " 'D:\\\\python_github\\\\WorldHappinessReport\\\\2018.csv',\n",
       " 'D:\\\\python_github\\\\WorldHappinessReport\\\\2019.csv']"
      ]
     },
     "execution_count": 2,
     "metadata": {},
     "output_type": "execute_result"
    }
   ],
   "source": [
    "all_files = glob.glob(\"D:\\python_github\\WorldHappinessReport\\*.csv\")\n",
    "all_files"
   ]
  },
  {
   "cell_type": "code",
   "execution_count": 3,
   "metadata": {},
   "outputs": [
    {
     "name": "stdout",
     "output_type": "stream",
     "text": [
      "---------- 2015 column ------------\n",
      "['Country', 'Region', 'Happiness Rank', 'Happiness Score', 'Standard Error', 'Economy (GDP per Capita)', 'Family', 'Health (Life Expectancy)', 'Freedom', 'Trust (Government Corruption)', 'Generosity', 'Dystopia Residual']\n",
      "---------- 2016 column ------------\n",
      "['Country', 'Region', 'Happiness Rank', 'Happiness Score', 'Lower Confidence Interval', 'Upper Confidence Interval', 'Economy (GDP per Capita)', 'Family', 'Health (Life Expectancy)', 'Freedom', 'Trust (Government Corruption)', 'Generosity', 'Dystopia Residual']\n",
      "---------- 2017 column ------------\n",
      "['Country', 'Happiness.Rank', 'Happiness.Score', 'Whisker.high', 'Whisker.low', 'Economy..GDP.per.Capita.', 'Family', 'Health..Life.Expectancy.', 'Freedom', 'Generosity', 'Trust..Government.Corruption.', 'Dystopia.Residual']\n",
      "---------- 2018 column ------------\n",
      "['Overall rank', 'Country or region', 'Score', 'GDP per capita', 'Social support', 'Healthy life expectancy', 'Freedom to make life choices', 'Generosity', 'Perceptions of corruption']\n",
      "---------- 2019 column ------------\n",
      "['Overall rank', 'Country or region', 'Score', 'GDP per capita', 'Social support', 'Healthy life expectancy', 'Freedom to make life choices', 'Generosity', 'Perceptions of corruption']\n"
     ]
    }
   ],
   "source": [
    "df_2015 = pd.read_csv(\"D:/python_github/WorldHappinessReport/2015.csv\")\n",
    "df_2016 = pd.read_csv(\"D:/python_github/WorldHappinessReport/2016.csv\")\n",
    "df_2017 = pd.read_csv(\"D:/python_github/WorldHappinessReport/2017.csv\")\n",
    "df_2018 = pd.read_csv(\"D:/python_github/WorldHappinessReport/2018.csv\")\n",
    "df_2019 = pd.read_csv(\"D:/python_github/WorldHappinessReport/2019.csv\")\n",
    "\n",
    "print(\"---------- 2015 column ------------\")\n",
    "print(df_2015.columns.tolist())\n",
    "\n",
    "print(\"---------- 2016 column ------------\")\n",
    "print(df_2016.columns.tolist())\n",
    "\n",
    "print(\"---------- 2017 column ------------\")\n",
    "print(df_2017.columns.tolist())\n",
    "\n",
    "print(\"---------- 2018 column ------------\")\n",
    "print(df_2018.columns.tolist())\n",
    "\n",
    "print(\"---------- 2019 column ------------\")\n",
    "print(df_2019.columns.tolist())\n"
   ]
  },
  {
   "cell_type": "code",
   "execution_count": 4,
   "metadata": {},
   "outputs": [
    {
     "name": "stderr",
     "output_type": "stream",
     "text": [
      "C:\\Users\\Shatakshi\\Anaconda3\\lib\\site-packages\\ipykernel_launcher.py:11: SettingWithCopyWarning: \n",
      "A value is trying to be set on a copy of a slice from a DataFrame.\n",
      "Try using .loc[row_indexer,col_indexer] = value instead\n",
      "\n",
      "See the caveats in the documentation: https://pandas.pydata.org/pandas-docs/stable/user_guide/indexing.html#returning-a-view-versus-a-copy\n",
      "  # This is added back by InteractiveShellApp.init_path()\n",
      "C:\\Users\\Shatakshi\\Anaconda3\\lib\\site-packages\\ipykernel_launcher.py:18: SettingWithCopyWarning: \n",
      "A value is trying to be set on a copy of a slice from a DataFrame.\n",
      "Try using .loc[row_indexer,col_indexer] = value instead\n",
      "\n",
      "See the caveats in the documentation: https://pandas.pydata.org/pandas-docs/stable/user_guide/indexing.html#returning-a-view-versus-a-copy\n",
      "C:\\Users\\Shatakshi\\Anaconda3\\lib\\site-packages\\ipykernel_launcher.py:27: SettingWithCopyWarning: \n",
      "A value is trying to be set on a copy of a slice from a DataFrame.\n",
      "Try using .loc[row_indexer,col_indexer] = value instead\n",
      "\n",
      "See the caveats in the documentation: https://pandas.pydata.org/pandas-docs/stable/user_guide/indexing.html#returning-a-view-versus-a-copy\n",
      "C:\\Users\\Shatakshi\\Anaconda3\\lib\\site-packages\\ipykernel_launcher.py:36: SettingWithCopyWarning: \n",
      "A value is trying to be set on a copy of a slice from a DataFrame.\n",
      "Try using .loc[row_indexer,col_indexer] = value instead\n",
      "\n",
      "See the caveats in the documentation: https://pandas.pydata.org/pandas-docs/stable/user_guide/indexing.html#returning-a-view-versus-a-copy\n",
      "C:\\Users\\Shatakshi\\Anaconda3\\lib\\site-packages\\pandas\\core\\indexing.py:1667: SettingWithCopyWarning: \n",
      "A value is trying to be set on a copy of a slice from a DataFrame.\n",
      "Try using .loc[row_indexer,col_indexer] = value instead\n",
      "\n",
      "See the caveats in the documentation: https://pandas.pydata.org/pandas-docs/stable/user_guide/indexing.html#returning-a-view-versus-a-copy\n",
      "  self.obj[key] = value\n"
     ]
    },
    {
     "data": {
      "text/html": [
       "<div>\n",
       "<style scoped>\n",
       "    .dataframe tbody tr th:only-of-type {\n",
       "        vertical-align: middle;\n",
       "    }\n",
       "\n",
       "    .dataframe tbody tr th {\n",
       "        vertical-align: top;\n",
       "    }\n",
       "\n",
       "    .dataframe thead th {\n",
       "        text-align: right;\n",
       "    }\n",
       "</style>\n",
       "<table border=\"1\" class=\"dataframe\">\n",
       "  <thead>\n",
       "    <tr style=\"text-align: right;\">\n",
       "      <th></th>\n",
       "      <th>Country</th>\n",
       "      <th>Region</th>\n",
       "      <th>Happiness Rank</th>\n",
       "      <th>Happiness Score</th>\n",
       "      <th>GDP per Capita</th>\n",
       "      <th>Social Support</th>\n",
       "      <th>Life Expectancy</th>\n",
       "      <th>Freedom</th>\n",
       "      <th>Perceptions of Corruption</th>\n",
       "      <th>Generosity</th>\n",
       "      <th>Year</th>\n",
       "    </tr>\n",
       "  </thead>\n",
       "  <tbody>\n",
       "    <tr>\n",
       "      <th>0</th>\n",
       "      <td>Switzerland</td>\n",
       "      <td>Western Europe</td>\n",
       "      <td>1</td>\n",
       "      <td>7.587</td>\n",
       "      <td>1.39651</td>\n",
       "      <td>1.34951</td>\n",
       "      <td>0.94143</td>\n",
       "      <td>0.66557</td>\n",
       "      <td>0.41978</td>\n",
       "      <td>0.29678</td>\n",
       "      <td>2015</td>\n",
       "    </tr>\n",
       "    <tr>\n",
       "      <th>1</th>\n",
       "      <td>Iceland</td>\n",
       "      <td>Western Europe</td>\n",
       "      <td>2</td>\n",
       "      <td>7.561</td>\n",
       "      <td>1.30232</td>\n",
       "      <td>1.40223</td>\n",
       "      <td>0.94784</td>\n",
       "      <td>0.62877</td>\n",
       "      <td>0.14145</td>\n",
       "      <td>0.43630</td>\n",
       "      <td>2015</td>\n",
       "    </tr>\n",
       "    <tr>\n",
       "      <th>2</th>\n",
       "      <td>Denmark</td>\n",
       "      <td>Western Europe</td>\n",
       "      <td>3</td>\n",
       "      <td>7.527</td>\n",
       "      <td>1.32548</td>\n",
       "      <td>1.36058</td>\n",
       "      <td>0.87464</td>\n",
       "      <td>0.64938</td>\n",
       "      <td>0.48357</td>\n",
       "      <td>0.34139</td>\n",
       "      <td>2015</td>\n",
       "    </tr>\n",
       "    <tr>\n",
       "      <th>3</th>\n",
       "      <td>Norway</td>\n",
       "      <td>Western Europe</td>\n",
       "      <td>4</td>\n",
       "      <td>7.522</td>\n",
       "      <td>1.45900</td>\n",
       "      <td>1.33095</td>\n",
       "      <td>0.88521</td>\n",
       "      <td>0.66973</td>\n",
       "      <td>0.36503</td>\n",
       "      <td>0.34699</td>\n",
       "      <td>2015</td>\n",
       "    </tr>\n",
       "    <tr>\n",
       "      <th>4</th>\n",
       "      <td>Canada</td>\n",
       "      <td>North America</td>\n",
       "      <td>5</td>\n",
       "      <td>7.427</td>\n",
       "      <td>1.32629</td>\n",
       "      <td>1.32261</td>\n",
       "      <td>0.90563</td>\n",
       "      <td>0.63297</td>\n",
       "      <td>0.32957</td>\n",
       "      <td>0.45811</td>\n",
       "      <td>2015</td>\n",
       "    </tr>\n",
       "    <tr>\n",
       "      <th>...</th>\n",
       "      <td>...</td>\n",
       "      <td>...</td>\n",
       "      <td>...</td>\n",
       "      <td>...</td>\n",
       "      <td>...</td>\n",
       "      <td>...</td>\n",
       "      <td>...</td>\n",
       "      <td>...</td>\n",
       "      <td>...</td>\n",
       "      <td>...</td>\n",
       "      <td>...</td>\n",
       "    </tr>\n",
       "    <tr>\n",
       "      <th>151</th>\n",
       "      <td>Rwanda</td>\n",
       "      <td>NaN</td>\n",
       "      <td>152</td>\n",
       "      <td>3.334</td>\n",
       "      <td>0.35900</td>\n",
       "      <td>0.71100</td>\n",
       "      <td>0.61400</td>\n",
       "      <td>0.55500</td>\n",
       "      <td>0.41100</td>\n",
       "      <td>0.21700</td>\n",
       "      <td>2019</td>\n",
       "    </tr>\n",
       "    <tr>\n",
       "      <th>152</th>\n",
       "      <td>Tanzania</td>\n",
       "      <td>NaN</td>\n",
       "      <td>153</td>\n",
       "      <td>3.231</td>\n",
       "      <td>0.47600</td>\n",
       "      <td>0.88500</td>\n",
       "      <td>0.49900</td>\n",
       "      <td>0.41700</td>\n",
       "      <td>0.14700</td>\n",
       "      <td>0.27600</td>\n",
       "      <td>2019</td>\n",
       "    </tr>\n",
       "    <tr>\n",
       "      <th>153</th>\n",
       "      <td>Afghanistan</td>\n",
       "      <td>NaN</td>\n",
       "      <td>154</td>\n",
       "      <td>3.203</td>\n",
       "      <td>0.35000</td>\n",
       "      <td>0.51700</td>\n",
       "      <td>0.36100</td>\n",
       "      <td>0.00000</td>\n",
       "      <td>0.02500</td>\n",
       "      <td>0.15800</td>\n",
       "      <td>2019</td>\n",
       "    </tr>\n",
       "    <tr>\n",
       "      <th>154</th>\n",
       "      <td>Central African Republic</td>\n",
       "      <td>NaN</td>\n",
       "      <td>155</td>\n",
       "      <td>3.083</td>\n",
       "      <td>0.02600</td>\n",
       "      <td>0.00000</td>\n",
       "      <td>0.10500</td>\n",
       "      <td>0.22500</td>\n",
       "      <td>0.03500</td>\n",
       "      <td>0.23500</td>\n",
       "      <td>2019</td>\n",
       "    </tr>\n",
       "    <tr>\n",
       "      <th>155</th>\n",
       "      <td>South Sudan</td>\n",
       "      <td>NaN</td>\n",
       "      <td>156</td>\n",
       "      <td>2.853</td>\n",
       "      <td>0.30600</td>\n",
       "      <td>0.57500</td>\n",
       "      <td>0.29500</td>\n",
       "      <td>0.01000</td>\n",
       "      <td>0.09100</td>\n",
       "      <td>0.20200</td>\n",
       "      <td>2019</td>\n",
       "    </tr>\n",
       "  </tbody>\n",
       "</table>\n",
       "<p>782 rows × 11 columns</p>\n",
       "</div>"
      ],
      "text/plain": [
       "                      Country          Region  Happiness Rank  \\\n",
       "0                 Switzerland  Western Europe               1   \n",
       "1                     Iceland  Western Europe               2   \n",
       "2                     Denmark  Western Europe               3   \n",
       "3                      Norway  Western Europe               4   \n",
       "4                      Canada   North America               5   \n",
       "..                        ...             ...             ...   \n",
       "151                    Rwanda             NaN             152   \n",
       "152                  Tanzania             NaN             153   \n",
       "153               Afghanistan             NaN             154   \n",
       "154  Central African Republic             NaN             155   \n",
       "155               South Sudan             NaN             156   \n",
       "\n",
       "     Happiness Score  GDP per Capita  Social Support  Life Expectancy  \\\n",
       "0              7.587         1.39651         1.34951          0.94143   \n",
       "1              7.561         1.30232         1.40223          0.94784   \n",
       "2              7.527         1.32548         1.36058          0.87464   \n",
       "3              7.522         1.45900         1.33095          0.88521   \n",
       "4              7.427         1.32629         1.32261          0.90563   \n",
       "..               ...             ...             ...              ...   \n",
       "151            3.334         0.35900         0.71100          0.61400   \n",
       "152            3.231         0.47600         0.88500          0.49900   \n",
       "153            3.203         0.35000         0.51700          0.36100   \n",
       "154            3.083         0.02600         0.00000          0.10500   \n",
       "155            2.853         0.30600         0.57500          0.29500   \n",
       "\n",
       "     Freedom  Perceptions of Corruption  Generosity  Year  \n",
       "0    0.66557                    0.41978     0.29678  2015  \n",
       "1    0.62877                    0.14145     0.43630  2015  \n",
       "2    0.64938                    0.48357     0.34139  2015  \n",
       "3    0.66973                    0.36503     0.34699  2015  \n",
       "4    0.63297                    0.32957     0.45811  2015  \n",
       "..       ...                        ...         ...   ...  \n",
       "151  0.55500                    0.41100     0.21700  2019  \n",
       "152  0.41700                    0.14700     0.27600  2019  \n",
       "153  0.00000                    0.02500     0.15800  2019  \n",
       "154  0.22500                    0.03500     0.23500  2019  \n",
       "155  0.01000                    0.09100     0.20200  2019  \n",
       "\n",
       "[782 rows x 11 columns]"
      ]
     },
     "execution_count": 4,
     "metadata": {},
     "output_type": "execute_result"
    }
   ],
   "source": [
    "# lets keep the following columns and rename the necessary columns for each .csv file\n",
    "\n",
    "final_columns = ['Country', 'Region', 'Happiness Rank', 'Happiness Score', 'GDP per Capita', 'Social Support', 'Life Expectancy',\n",
    "                'Freedom', 'Perceptions of Corruption', 'Generosity']\n",
    "\n",
    "# for 2015 data\n",
    "df_2015.rename(columns={'Economy (GDP per Capita)':'GDP per Capita', 'Family':'Social Support',\n",
    "                        'Health (Life Expectancy)':'Life Expectancy', 'Trust (Government Corruption)':'Perceptions of Corruption'}\n",
    "               , inplace=True)\n",
    "df2015 = df_2015[final_columns]\n",
    "df2015['Year'] = 2015\n",
    "\n",
    "# for 2016 data\n",
    "df_2016.rename(columns={'Economy (GDP per Capita)':'GDP per Capita', 'Family':'Social Support', \n",
    "                        'Health (Life Expectancy)':'Life Expectancy', 'Trust (Government Corruption)':'Perceptions of Corruption'}\n",
    "               , inplace=True)\n",
    "df2016 = df_2016[final_columns]\n",
    "df2016['Year'] = 2016\n",
    "\n",
    "# for 2017 data\n",
    "df_2017.rename(columns={'Happiness.Rank':'Happiness Rank', 'Happiness.Score':'Happiness Score', \n",
    "                        'Economy..GDP.per.Capita.':'GDP per Capita', 'Family':'Social Support',\n",
    "                        'Health..Life.Expectancy.':'Life Expectancy', 'Trust..Government.Corruption.':'Perceptions of Corruption'}\n",
    "              , inplace=True)\n",
    "df_2017['Region'] = np.nan\n",
    "df2017 = df_2017[final_columns]\n",
    "df2017['Year'] = 2017\n",
    "\n",
    "# for 2018 data\n",
    "df_2018.rename(columns={'Overall rank':'Happiness Rank', 'Country or region':'Country', 'Score':'Happiness Score', \n",
    "                        'GDP per capita':'GDP per Capita', 'Healthy life expectancy':'Life Expectancy', \n",
    "                        'Social support':'Social Support', 'Freedom to make life choices':'Freedom', \n",
    "                        'Perceptions of corruption':'Perceptions of Corruption'}, inplace=True)\n",
    "df_2018['Region'] = np.nan\n",
    "df2018 = df_2018[final_columns]\n",
    "df2018['Year'] = 2018\n",
    "\n",
    "# for 2019 data\n",
    "df_2019.rename(columns={'Overall rank':'Happiness Rank', 'Country or region':'Country', 'Score':'Happiness Score', \n",
    "                        'GDP per capita':'GDP per Capita', 'Healthy life expectancy':'Life Expectancy', \n",
    "                        'Social support':'Social Support', 'Freedom to make life choices':'Freedom', \n",
    "                        'Perceptions of corruption':'Perceptions of Corruption'}, inplace=True)\n",
    "df_2019['Region'] = np.nan\n",
    "df2019 = df_2019[final_columns]\n",
    "df2019['Year'] = 2019\n",
    "\n",
    "all_df = pd.concat([df2015, df2016, df2017, df2018, df2019])\n",
    "all_df"
   ]
  },
  {
   "cell_type": "code",
   "execution_count": 5,
   "metadata": {},
   "outputs": [],
   "source": [
    "# filling missing values\n",
    "\n",
    "all_df['Perceptions of Corruption'].fillna(all_df['Perceptions of Corruption'].median(), inplace=True)"
   ]
  },
  {
   "cell_type": "code",
   "execution_count": 6,
   "metadata": {},
   "outputs": [
    {
     "data": {
      "image/png": "[encoded data removed]",
      "text/plain": [
       "<Figure size 432x288 with 1 Axes>"
      ]
     },
     "metadata": {
      "needs_background": "light"
     },
     "output_type": "display_data"
    }
   ],
   "source": [
    "# Lineplot: Happiness trend over years (example for a few countries)\n",
    "top_countries = [\"United States of America\", \"India\", \"Germany\", \"Brazil\"]\n",
    "sns.lineplot(\n",
    "    data=all_df[all_df[\"Country\"].isin(top_countries)],\n",
    "    x=\"Year\", y=\"Happiness Score\", hue=\"Country\", marker=\"o\"\n",
    ")\n",
    "plt.title(\"Happiness Score Trends\")\n",
    "plt.show()"
   ]
  },
  {
   "cell_type": "code",
   "execution_count": 7,
   "metadata": {},
   "outputs": [
    {
     "data": {
      "image/png": "[encoded data removed]",
      "text/plain": [
       "<Figure size 432x288 with 1 Axes>"
      ]
     },
     "metadata": {
      "needs_background": "light"
     },
     "output_type": "display_data"
    }
   ],
   "source": [
    "# Barplot: Average Happiness by Region\n",
    "avg_region = all_df.groupby(\"Region\")[\"Happiness Score\"].mean().reset_index()\n",
    "sns.barplot(data=avg_region, x=\"Region\", y=\"Happiness Score\")\n",
    "plt.title(\"Average Happiness Score by Region\")\n",
    "plt.xticks(rotation=30)\n",
    "plt.show()"
   ]
  },
  {
   "cell_type": "code",
   "execution_count": 8,
   "metadata": {},
   "outputs": [
    {
     "data": {
      "image/png": "[encoded data removed]",
      "text/plain": [
       "<Figure size 432x288 with 2 Axes>"
      ]
     },
     "metadata": {
      "needs_background": "light"
     },
     "output_type": "display_data"
    }
   ],
   "source": [
    "# Heatmap: Correlations\n",
    "num_cols = [\"Happiness Score\", \"GDP per Capita\", \"Social Support\"]\n",
    "sns.heatmap(all_df[num_cols].corr(), annot=True, cmap=\"Blues\")\n",
    "plt.title(\"Correlation Heatmap\")\n",
    "plt.show()\n"
   ]
  },
  {
   "cell_type": "code",
   "execution_count": 9,
   "metadata": {},
   "outputs": [
    {
     "name": "stdout",
     "output_type": "stream",
     "text": [
      "Year          2015   2016   2017   2018   2019\n",
      "Country                                       \n",
      "Afghanistan  3.575  3.360  3.794  3.632  3.203\n",
      "Albania      4.959  4.655  4.644  4.586  4.719\n",
      "Algeria      5.605  6.355  5.872  5.295  5.211\n",
      "Angola       4.033  3.866  3.795  3.795    NaN\n",
      "Argentina    6.574  6.650  6.599  6.388  6.086\n"
     ]
    }
   ],
   "source": [
    "# Pivot Table: Rank changes over time\n",
    "rank_table = all_df.pivot_table(\n",
    "    index=\"Country\", columns=\"Year\", values=\"Happiness Score\"\n",
    ")\n",
    "print(rank_table.head())"
   ]
  },
  {
   "cell_type": "code",
   "execution_count": null,
   "metadata": {},
   "outputs": [],
   "source": []
  }
 ],
 "metadata": {
  "kernelspec": {
   "display_name": "Python 3",
   "language": "python",
   "name": "python3"
  },
  "language_info": {
   "codemirror_mode": {
    "name": "ipython",
    "version": 3
   },
   "file_extension": ".py",
   "mimetype": "text/x-python",
   "name": "python",
   "nbconvert_exporter": "python",
   "pygments_lexer": "ipython3",
   "version": "3.7.4"
  }
 },
 "nbformat": 4,
 "nbformat_minor": 2
}
